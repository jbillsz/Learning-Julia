{
 "cells": [
  {
   "cell_type": "markdown",
   "id": "78648fc5",
   "metadata": {},
   "source": [
    "# My first julia code "
   ]
  },
  {
   "cell_type": "code",
   "execution_count": 1,
   "id": "63feb4f7",
   "metadata": {
    "scrolled": true
   },
   "outputs": [
    {
     "name": "stdout",
     "output_type": "stream",
     "text": [
      "hello, world\n"
     ]
    }
   ],
   "source": [
    "println(\"hello, world\")"
   ]
  },
  {
   "cell_type": "markdown",
   "id": "f98d28c3",
   "metadata": {},
   "source": [
    "# More code with integers and float\n"
   ]
  },
  {
   "cell_type": "code",
   "execution_count": 2,
   "id": "2a387faf",
   "metadata": {},
   "outputs": [
    {
     "name": "stdout",
     "output_type": "stream",
     "text": [
      "5...Evaluated.\n"
     ]
    }
   ],
   "source": [
    "println(3+2,\"...Evaluated.\")"
   ]
  },
  {
   "cell_type": "code",
   "execution_count": 6,
   "id": "c3dd28b3",
   "metadata": {},
   "outputs": [
    {
     "name": "stdout",
     "output_type": "stream",
     "text": [
      "Hello World\n"
     ]
    }
   ],
   "source": [
    "println(\"Hello \" *\"World\")"
   ]
  },
  {
   "cell_type": "code",
   "execution_count": 7,
   "id": "e8244ac1",
   "metadata": {},
   "outputs": [
    {
     "name": "stdout",
     "output_type": "stream",
     "text": [
      "Hello World World World \n"
     ]
    }
   ],
   "source": [
    "println(\"Hello \" * \"World \"^3)"
   ]
  },
  {
   "cell_type": "code",
   "execution_count": 8,
   "id": "f1cd8034",
   "metadata": {},
   "outputs": [
    {
     "data": {
      "text/plain": [
       "14"
      ]
     },
     "execution_count": 8,
     "metadata": {},
     "output_type": "execute_result"
    }
   ],
   "source": [
    "5+9 #14"
   ]
  },
  {
   "cell_type": "code",
   "execution_count": 9,
   "id": "64c73de3",
   "metadata": {},
   "outputs": [
    {
     "name": "stdout",
     "output_type": "stream",
     "text": [
      "Hello! My word! Hello! My word! \n"
     ]
    }
   ],
   "source": [
    "println((\"Hello!\" * \" My word! \")^2)"
   ]
  },
  {
   "cell_type": "code",
   "execution_count": null,
   "id": "ee5247e1",
   "metadata": {},
   "outputs": [],
   "source": []
  }
 ],
 "metadata": {
  "kernelspec": {
   "display_name": "Julia 1.8.5",
   "language": "julia",
   "name": "julia-1.8"
  },
  "language_info": {
   "file_extension": ".jl",
   "mimetype": "application/julia",
   "name": "julia",
   "version": "1.8.5"
  }
 },
 "nbformat": 4,
 "nbformat_minor": 5
}
